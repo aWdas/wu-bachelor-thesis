{
 "cells": [
  {
   "cell_type": "code",
   "execution_count": 12,
   "metadata": {},
   "outputs": [],
   "source": [
    "import pandas as pd"
   ]
  },
  {
   "cell_type": "code",
   "execution_count": 17,
   "metadata": {},
   "outputs": [],
   "source": [
    "def get_total_vertices_for_year(year):\n",
    "    with open(f'/mnt/c/Users/jandh/Desktop/evaluation-results/stats/stats{year}.txt') as myfile:\n",
    "        head = [next(myfile) for x in range(4)]\n",
    "    return(int(head[2].split(': ')[1].strip()) if len(head[2].split(': ')) > 1 else int(head[2].split('\\t')[1].strip()))"
   ]
  },
  {
   "cell_type": "code",
   "execution_count": 20,
   "metadata": {},
   "outputs": [],
   "source": [
    "years = ['2013', '2014', '2015', '2016']\n",
    "shape_sizes = range(2, 5)\n",
    "\n",
    "for size in shape_sizes:\n",
    "    years_data = {}\n",
    "    for year in years:\n",
    "        try:\n",
    "            year_data = pd.read_csv(f'/mnt/c/Users/jandh/Desktop/evaluation-results/stats/stats_{year}_{size}.txt', sep='\\t').rename(columns={'count': f'count{year}'})\n",
    "\n",
    "            total_vertices = get_total_vertices_for_year(year)\n",
    "            year_data[f'count{year}_relative'] = year_data[f'count{year}'].map(lambda count: count / total_vertices)\n",
    "            years_data[year] = year_data\n",
    "        except FileNotFoundError:\n",
    "            years_data[year] = pd.DataFrame({}, columns=['shape', f'count{year}'])\n",
    "\n",
    "    for (year1, year2) in zip(years, years[1:]):\n",
    "        year1_data = years_data[year1]\n",
    "        year2_data = years_data[year2]\n",
    "        combined = pd.merge(year1_data, year2_data, on='shape', how='outer').fillna(0)\n",
    "        combined['delta'] = combined[f'count{year2}_relative'] - combined[f'count{year1}_relative']\n",
    "        combined.sort_values(by=['delta'], ascending=False).to_csv(f'/mnt/c/Users/jandh/Desktop/evaluation-results/delta_{year1}_{year2}_{size}_desc.txt', sep='\\t', columns=['shape', f'count{year1}_relative', f'count{year2}_relative', 'delta'])\n",
    "        combined.sort_values(by=['delta'], ascending=True).to_csv(f'/mnt/c/Users/jandh/Desktop/evaluation-results/delta_{year1}_{year2}_{size}_asc.txt', sep='\\t', columns=['shape', f'count{year1}_relative', f'count{year2}_relative', 'delta'])"
   ]
  },
  {
   "cell_type": "code",
   "execution_count": 16,
   "metadata": {},
   "outputs": [],
   "source": [
    "total_vertices = get_total_vertices_for_year('2014')\n",
    "\n",
    "stats['percentage'] = stats['count'].map(lambda count: count / total_vertices)"
   ]
  }
 ],
 "metadata": {
  "kernelspec": {
   "display_name": "Python 3",
   "language": "python",
   "name": "python3"
  },
  "language_info": {
   "codemirror_mode": {
    "name": "ipython",
    "version": 3
   },
   "file_extension": ".py",
   "mimetype": "text/x-python",
   "name": "python",
   "nbconvert_exporter": "python",
   "pygments_lexer": "ipython3",
   "version": "3.6.7"
  }
 },
 "nbformat": 4,
 "nbformat_minor": 2
}
