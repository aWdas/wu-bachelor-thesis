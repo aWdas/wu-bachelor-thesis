{
 "cells": [
  {
   "cell_type": "markdown",
   "metadata": {},
   "source": [
    "Sums up the counts of invalid queries by prefix and the counts of queries with different numbers of triples"
   ]
  },
  {
   "cell_type": "code",
   "execution_count": 11,
   "metadata": {},
   "outputs": [],
   "source": [
    "import pandas as pd\n",
    "prefixes13 = pd.read_csv('../../results/missing-prefixes/invalid2013.txt', sep='\\t', header=None, names=['prefix', 'count'])\n",
    "prefixes14 = pd.read_csv('../../results/missing-prefixes/invalid2014.txt', sep='\\t', header=None, names=['prefix', 'count'])\n",
    "prefixes15 = pd.read_csv('../../results/missing-prefixes/invalid2015.txt', sep='\\t', header=None, names=['prefix', 'count'])\n",
    "prefixes16 = pd.read_csv('../../results/missing-prefixes/invalid2016.txt', sep='\\t', header=None, names=['prefix', 'count'])"
   ]
  },
  {
   "cell_type": "code",
   "execution_count": 12,
   "metadata": {},
   "outputs": [],
   "source": [
    "prefixes = pd.concat([prefixes13, prefixes14, prefixes15, prefixes16])\n",
    "prefixes['prefix'] = prefixes['prefix'].map(lambda prefix: prefix.strip())\n",
    "total_prefixes = prefixes.groupby(prefixes['prefix']).sum().sort_values(by=['count'], ascending=False)\n",
    "total_prefixes.to_csv('../../results/missing-prefixes/total_invalid.txt', sep='\\t')"
   ]
  },
  {
   "cell_type": "code",
   "execution_count": 13,
   "metadata": {},
   "outputs": [],
   "source": [
    "shapes13 = pd.read_csv('../../results/querysizes/shapes2013.txt', sep='\\t', header=None, names=['shape', 'count'], skiprows=1)\n",
    "shapes14 = pd.read_csv('../../results/querysizes/shapes2014.txt', sep='\\t', header=None, names=['shape', 'count'], skiprows=1)\n",
    "shapes15 = pd.read_csv('../../results/querysizes/shapes2015.txt', sep='\\t', header=None, names=['shape', 'count'], skiprows=1)\n",
    "shapes16 = pd.read_csv('../../results/querysizes/shapes2016.txt', sep='\\t', header=None, names=['shape', 'count'], skiprows=1)"
   ]
  },
  {
   "cell_type": "code",
   "execution_count": 14,
   "metadata": {},
   "outputs": [],
   "source": [
    "shapes = pd.concat([shapes13, shapes14, shapes15, shapes16])\n",
    "total_shapes = shapes.groupby(shapes['shape']).sum().sort_values(by=['count'], ascending=False)\n",
    "total_shapes.to_csv('../../results/querysizes/total_shapes.txt', sep='\\t')"
   ]
  }
 ],
 "metadata": {
  "kernelspec": {
   "display_name": "Python 3",
   "language": "python",
   "name": "python3"
  },
  "language_info": {
   "codemirror_mode": {
    "name": "ipython",
    "version": 3
   },
   "file_extension": ".py",
   "mimetype": "text/x-python",
   "name": "python",
   "nbconvert_exporter": "python",
   "pygments_lexer": "ipython3",
   "version": "3.7.4"
  }
 },
 "nbformat": 4,
 "nbformat_minor": 2
}
