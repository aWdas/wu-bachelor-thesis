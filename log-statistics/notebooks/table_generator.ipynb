{
 "cells": [
  {
   "cell_type": "markdown",
   "metadata": {},
   "source": [
    "Extracts the statistics to generate the Latex tables in the thesis"
   ]
  },
  {
   "cell_type": "code",
   "execution_count": 9,
   "metadata": {},
   "outputs": [],
   "source": [
    "import utils.minimum_union as mu\n",
    "statistic_lines = []\n",
    "\n",
    "parts = [1, 2, 3, 4, 5, 6, 7]  \n",
    "statistic_lines.extend([(f\"Wikidata All {part}\", mu.import_statistics(f\"../../results/queryshapes/wikidata_all_{part}\", to_set=True)[1]) for part in parts])\n",
    "statistic_lines.append((\"Total\", mu.import_combined([f\"../../results/queryshapes/wikidata_all_{part}\" for part in parts])[1]))\n",
    "statistic_lines.extend([(f\"Wikidata Organic {part}\", mu.import_statistics(f\"../../results/queryshapes/wikidata_organic_{part}\", to_set=True)[1]) for part in parts])\n",
    "statistic_lines.append((\"Total\", mu.import_combined([f\"../../results/queryshapes/wikidata_organic_{part}\" for part in parts])[1]))\n",
    "                       \n",
    "parts = [2013, 2014, 2015, 2016]\n",
    "statistic_lines.extend([(f\"USEWOD {part}\", mu.import_statistics(f\"../../results/queryshapes/usewod_{part}\", to_set=True)[1]) for part in parts])\n",
    "statistic_lines.append((\"Total\", mu.import_combined([f\"../../results/queryshapes/usewod_{part}\" for part in parts])[1]))"
   ]
  },
  {
   "cell_type": "code",
   "execution_count": 10,
   "metadata": {},
   "outputs": [],
   "source": [
    "unresolvable_stats = \"\"\n",
    "for title, meta in statistic_lines:\n",
    "    valid_q = meta['VALID_QUERIES']\n",
    "    no_graph = round(meta['NO_GRAPH_PATTERN'] / valid_q * 100, 2)\n",
    "    variable_pred = round(meta['VARIABLE_PREDICATE'] / valid_q * 100, 2)\n",
    "    neg_prop = round(meta['NEGATED_PROP_SET'] / valid_q * 100, 2)\n",
    "    empty_graph = round(meta['EMPTY_GRAPH_PATTERN'] / valid_q * 100, 2)\n",
    "    total = round((meta['NO_GRAPH_PATTERN'] + meta['UNSUPPORTED_FEATURE'] + meta['EMPTY_GRAPH_PATTERN']) / valid_q * 100, 2)\n",
    "    \n",
    "    unresolvable_stats = unresolvable_stats + f\"{title} & {no_graph} & {empty_graph} & {variable_pred} & {neg_prop} & {total} \\\\\\\\ \\n\""
   ]
  },
  {
   "cell_type": "code",
   "execution_count": 11,
   "metadata": {},
   "outputs": [
    {
     "name": "stdout",
     "output_type": "stream",
     "text": [
      "Wikidata All 1 & 0.25 & 0.02 & 16.54 & 0.0 & 16.82 \\\\ \n",
      "Wikidata All 2 & 0.02 & 0.75 & 10.56 & 0.0 & 11.33 \\\\ \n",
      "Wikidata All 3 & 0.02 & 1.19 & 12.54 & 0.0 & 13.75 \\\\ \n",
      "Wikidata All 4 & 2.21 & 2.5 & 27.99 & 0.0 & 32.7 \\\\ \n",
      "Wikidata All 5 & 0.96 & 3.25 & 32.05 & 0.0 & 36.26 \\\\ \n",
      "Wikidata All 6 & 0.05 & 2.7 & 27.2 & 0.0 & 29.95 \\\\ \n",
      "Wikidata All 7 & 0.19 & 4.56 & 34.87 & 0.0 & 39.63 \\\\ \n",
      "Total & 0.61 & 2.31 & 24.2 & 0.0 & 27.12 \\\\ \n",
      "Wikidata Organic 1 & 0.05 & 0.09 & 13.71 & 0.0 & 13.86 \\\\ \n",
      "Wikidata Organic 2 & 0.04 & 0.15 & 15.71 & 0.0 & 15.9 \\\\ \n",
      "Wikidata Organic 3 & 0.04 & 0.06 & 17.89 & 0.0 & 17.99 \\\\ \n",
      "Wikidata Organic 4 & 0.01 & 0.05 & 52.73 & 0.18 & 52.98 \\\\ \n",
      "Wikidata Organic 5 & 0.01 & 0.04 & 40.03 & 0.17 & 40.25 \\\\ \n",
      "Wikidata Organic 6 & 0.02 & 0.02 & 32.02 & 0.1 & 32.16 \\\\ \n",
      "Wikidata Organic 7 & 0.06 & 0.12 & 31.76 & 0.09 & 32.03 \\\\ \n",
      "Total & 0.03 & 0.07 & 33.28 & 0.1 & 33.49 \\\\ \n",
      "USEWOD 2013 & 0.26 & 0.3 & 36.69 & 0.0 & 37.25 \\\\ \n",
      "USEWOD 2014 & 1.39 & 0.02 & 5.83 & 0.0 & 7.25 \\\\ \n",
      "USEWOD 2015 & 5.82 & 0.0 & 6.13 & 0.44 & 12.39 \\\\ \n",
      "USEWOD 2016 & 2.53 & 0.0 & 26.92 & 0.01 & 29.46 \\\\ \n",
      "Total & 2.78 & 0.06 & 24.29 & 0.1 & 27.23 \\\\ \n",
      "\n"
     ]
    }
   ],
   "source": [
    "print(unresolvable_stats)"
   ]
  },
  {
   "cell_type": "code",
   "execution_count": 12,
   "metadata": {},
   "outputs": [],
   "source": [
    "general_stats = \"\"\n",
    "for title, meta in statistic_lines:\n",
    "    total_lines = meta['TOTAL_LINES']\n",
    "    total_queries = meta['TOTAL_QUERIES']\n",
    "    valid_queries = meta['VALID_QUERIES']\n",
    "    valid_percentage = round(meta['VALID_QUERIES'] / meta['TOTAL_QUERIES'] * 100, 2)\n",
    "    \n",
    "    general_stats = general_stats + f\"{title} & {total_lines} & {total_queries} & {valid_queries} & {valid_percentage} \\\\\\\\ \\n\"\n",
    "    "
   ]
  },
  {
   "cell_type": "code",
   "execution_count": 13,
   "metadata": {
    "scrolled": true
   },
   "outputs": [
    {
     "name": "stdout",
     "output_type": "stream",
     "text": [
      "Wikidata All 1 & 59547909 & 59547909 & 59536593 & 99.98 \\\\ \n",
      "Wikidata All 2 & 66459799 & 66459799 & 66445716 & 99.98 \\\\ \n",
      "Wikidata All 3 & 78000469 & 78000469 & 77975163 & 99.97 \\\\ \n",
      "Wikidata All 4 & 101545006 & 101545006 & 101516443 & 99.97 \\\\ \n",
      "Wikidata All 5 & 91827133 & 91827133 & 91804418 & 99.98 \\\\ \n",
      "Wikidata All 6 & 96186795 & 96186795 & 96157585 & 99.97 \\\\ \n",
      "Wikidata All 7 & 82211741 & 82211741 & 82192667 & 99.98 \\\\ \n",
      "Total & 575778852 & 575778852 & 575628585 & 99.97 \\\\ \n",
      "Wikidata Organic 1 & 192330 & 192330 & 188378 & 97.95 \\\\ \n",
      "Wikidata Organic 2 & 200726 & 200726 & 197084 & 98.19 \\\\ \n",
      "Wikidata Organic 3 & 268464 & 268464 & 265674 & 98.96 \\\\ \n",
      "Wikidata Organic 4 & 500339 & 500339 & 497031 & 99.34 \\\\ \n",
      "Wikidata Organic 5 & 600767 & 600767 & 597642 & 99.48 \\\\ \n",
      "Wikidata Organic 6 & 895767 & 895767 & 891868 & 99.56 \\\\ \n",
      "Wikidata Organic 7 & 872555 & 872555 & 869606 & 99.66 \\\\ \n",
      "Total & 3530948 & 3530948 & 3507283 & 99.33 \\\\ \n",
      "USEWOD 2013 & 12044165 & 11821713 & 11533888 & 97.57 \\\\ \n",
      "USEWOD 2014 & 368358 & 305097 & 282689 & 92.66 \\\\ \n",
      "USEWOD 2015 & 13771217 & 12993744 & 12480267 & 96.05 \\\\ \n",
      "USEWOD 2016 & 35124962 & 35093728 & 33894154 & 96.58 \\\\ \n",
      "Total & 61308702 & 60214282 & 58190998 & 96.64 \\\\ \n",
      "\n"
     ]
    }
   ],
   "source": [
    "print(general_stats)"
   ]
  }
 ],
 "metadata": {
  "kernelspec": {
   "display_name": "Python 3",
   "language": "python",
   "name": "python3"
  },
  "language_info": {
   "codemirror_mode": {
    "name": "ipython",
    "version": 3
   },
   "file_extension": ".py",
   "mimetype": "text/x-python",
   "name": "python",
   "nbconvert_exporter": "python",
   "pygments_lexer": "ipython3",
   "version": "3.7.4"
  }
 },
 "nbformat": 4,
 "nbformat_minor": 2
}
