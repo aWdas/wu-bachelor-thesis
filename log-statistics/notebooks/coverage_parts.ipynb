{
 "cells": [
  {
   "cell_type": "markdown",
   "metadata": {},
   "source": [
    "Exploration of coverage with only complex (>1 predicate) partitions"
   ]
  },
  {
   "cell_type": "markdown",
   "metadata": {},
   "source": [
    "## DBpedia"
   ]
  },
  {
   "cell_type": "code",
   "execution_count": 1,
   "metadata": {},
   "outputs": [],
   "source": [
    "import json\n",
    "import pandas as pd\n",
    "import importlib\n",
    "import matplotlib.pyplot as plt\n",
    "import utils.minimum_union as mu\n",
    "\n",
    "parts = [2013, 2014, 2015, 2016]\n",
    "usewod_df, usewod_meta = mu.import_combined([f\"../../results/queryshapes/usewod_{part}\" for part in parts])"
   ]
  },
  {
   "cell_type": "code",
   "execution_count": 2,
   "metadata": {},
   "outputs": [],
   "source": [
    "import json\n",
    "with open(\"../../results/minimum-unions/usewod_minimum_unions.json\", \"r\") as file:\n",
    "    usewod_min_unions_json = json.load(file)\n",
    "usewod_min_unions_70 = usewod_min_unions_json[-3]"
   ]
  },
  {
   "cell_type": "code",
   "execution_count": 3,
   "metadata": {},
   "outputs": [
    {
     "data": {
      "text/plain": [
       "0.7000000068739154"
      ]
     },
     "execution_count": 3,
     "metadata": {},
     "output_type": "execute_result"
    }
   ],
   "source": [
    "usewod_min_unions_70[\"threshold\"] / usewod_meta[\"VALID_QUERIES\"]"
   ]
  },
  {
   "cell_type": "code",
   "execution_count": 4,
   "metadata": {},
   "outputs": [
    {
     "data": {
      "text/plain": [
       "0.21533700109422424"
      ]
     },
     "execution_count": 4,
     "metadata": {},
     "output_type": "execute_result"
    }
   ],
   "source": [
    "complex_partitions = [p for p in usewod_min_unions_70[\"optimalPartitions\"] if len(p.split(\",\")) > 1]\n",
    "complex_partitions_set = set(complex_partitions)\n",
    "covered_weight_complex = usewod_df.apply(lambda row: row[\"weight\"] if row[\"set\"].issubset(complex_partitions_set) else 0, axis=1).sum()\n",
    "covered_weight_complex / usewod_meta[\"VALID_QUERIES\"]"
   ]
  },
  {
   "cell_type": "markdown",
   "metadata": {},
   "source": [
    "## Wikidata"
   ]
  },
  {
   "cell_type": "code",
   "execution_count": 5,
   "metadata": {},
   "outputs": [],
   "source": [
    "parts = range(1,8)\n",
    "wikidata_df, wikidata_meta = mu.import_combined([f\"../../results/queryshapes/wikidata_all_{part}\" for part in parts])"
   ]
  },
  {
   "cell_type": "code",
   "execution_count": 6,
   "metadata": {},
   "outputs": [],
   "source": [
    "import json\n",
    "with open(\"../../results/minimum-unions/wikidata_all_minimum_unions.json\", \"r\") as file:\n",
    "    wikidata_all_min_unions = json.load(file)\n",
    "wikidata_all_min_unions_70 = wikidata_all_min_unions[-3]"
   ]
  },
  {
   "cell_type": "code",
   "execution_count": 7,
   "metadata": {},
   "outputs": [
    {
     "data": {
      "text/plain": [
       "0.7000000008686157"
      ]
     },
     "execution_count": 7,
     "metadata": {},
     "output_type": "execute_result"
    }
   ],
   "source": [
    "wikidata_all_min_unions_70[\"threshold\"] / wikidata_meta[\"VALID_QUERIES\"]"
   ]
  },
  {
   "cell_type": "code",
   "execution_count": 8,
   "metadata": {},
   "outputs": [],
   "source": [
    "wikidata_part = set(wikidata_all_min_unions_70[\"optimalPartitions\"])\n",
    "wikidata_complex = {p for p in wikidata_all_min_unions_70[\"optimalPartitions\"] if len(p.split(\",\")) > 1}"
   ]
  },
  {
   "cell_type": "code",
   "execution_count": 9,
   "metadata": {},
   "outputs": [
    {
     "data": {
      "text/plain": [
       "0.02427137109599934"
      ]
     },
     "execution_count": 9,
     "metadata": {},
     "output_type": "execute_result"
    }
   ],
   "source": [
    "covered_weight_wikidata_complex = wikidata_df.apply(lambda row: row[\"weight\"] if row[\"set\"].issubset(wikidata_complex) else 0, axis=1).sum()\n",
    "covered_weight_wikidata_complex / wikidata_meta[\"VALID_QUERIES\"]"
   ]
  }
 ],
 "metadata": {
  "kernelspec": {
   "display_name": "Python 3",
   "language": "python",
   "name": "python3"
  },
  "language_info": {
   "codemirror_mode": {
    "name": "ipython",
    "version": 3
   },
   "file_extension": ".py",
   "mimetype": "text/x-python",
   "name": "python",
   "nbconvert_exporter": "python",
   "pygments_lexer": "ipython3",
   "version": "3.7.4"
  }
 },
 "nbformat": 4,
 "nbformat_minor": 2
}
