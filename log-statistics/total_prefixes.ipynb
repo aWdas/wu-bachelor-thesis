{
 "cells": [
  {
   "cell_type": "code",
   "execution_count": 2,
   "metadata": {},
   "outputs": [],
   "source": [
    "import pandas as pd\n",
    "prefixes13 = pd.read_csv('/mnt/c/Users/jandh/Desktop/evaluation-results/invalid2013.txt', sep='\\t', header=None, names=['prefix', 'count'])\n",
    "prefixes14 = pd.read_csv('/mnt/c/Users/jandh/Desktop/evaluation-results/invalid2014.txt', sep='\\t', header=None, names=['prefix', 'count'])\n",
    "prefixes15 = pd.read_csv('/mnt/c/Users/jandh/Desktop/evaluation-results/invalid2015.txt', sep='\\t', header=None, names=['prefix', 'count'])\n",
    "prefixes16 = pd.read_csv('/mnt/c/Users/jandh/Desktop/evaluation-results/invalid2016.txt', sep='\\t', header=None, names=['prefix', 'count'])"
   ]
  },
  {
   "cell_type": "code",
   "execution_count": 17,
   "metadata": {},
   "outputs": [],
   "source": [
    "prefixes = pd.concat([prefixes13, prefixes14, prefixes15, prefixes16])\n",
    "prefixes['prefix'] = prefixes['prefix'].map(lambda prefix: prefix.strip())\n",
    "total_prefixes = prefixes.groupby(prefixes['prefix']).sum().sort_values(by=['count'], ascending=False)\n",
    "total_prefixes.to_csv('/mnt/c/Users/jandh/Desktop/evaluation-results/total_invalid.txt', sep='\\t')"
   ]
  },
  {
   "cell_type": "code",
   "execution_count": 3,
   "metadata": {},
   "outputs": [],
   "source": [
    "shapes13 = pd.read_csv('/mnt/c/Users/jandh/Desktop/evaluation-results/shapes2013.txt', sep='\\t', header=None, names=['shape', 'count'], skiprows=1)\n",
    "shapes14 = pd.read_csv('/mnt/c/Users/jandh/Desktop/evaluation-results/shapes2014.txt', sep='\\t', header=None, names=['shape', 'count'], skiprows=1)\n",
    "shapes15 = pd.read_csv('/mnt/c/Users/jandh/Desktop/evaluation-results/shapes2015.txt', sep='\\t', header=None, names=['shape', 'count'], skiprows=1)\n",
    "shapes16 = pd.read_csv('/mnt/c/Users/jandh/Desktop/evaluation-results/shapes2016.txt', sep='\\t', header=None, names=['shape', 'count'], skiprows=1)"
   ]
  },
  {
   "cell_type": "code",
   "execution_count": 9,
   "metadata": {},
   "outputs": [],
   "source": [
    "shapes = pd.concat([shapes13, shapes14, shapes15, shapes16])\n",
    "total_shapes = shapes.groupby(shapes['shape']).sum().sort_values(by=['count'], ascending=False)\n",
    "#total_shapes['count'] = total_shapes['count'] / (11533888 + 282689 + 12480267 + 33894154)\n",
    "total_shapes.to_csv('/mnt/c/Users/jandh/Desktop/evaluation-results/total_shapes.txt', sep='\\t')"
   ]
  },
  {
   "cell_type": "code",
   "execution_count": 8,
   "metadata": {},
   "outputs": [
    {
     "data": {
      "text/plain": [
       "58190998"
      ]
     },
     "execution_count": 8,
     "metadata": {},
     "output_type": "execute_result"
    }
   ],
   "source": [
    "11533888 + 282689 + 12480267 + 33894154"
   ]
  },
  {
   "cell_type": "code",
   "execution_count": null,
   "metadata": {},
   "outputs": [],
   "source": []
  }
 ],
 "metadata": {
  "kernelspec": {
   "display_name": "Python 3",
   "language": "python",
   "name": "python3"
  },
  "language_info": {
   "codemirror_mode": {
    "name": "ipython",
    "version": 3
   },
   "file_extension": ".py",
   "mimetype": "text/x-python",
   "name": "python",
   "nbconvert_exporter": "python",
   "pygments_lexer": "ipython3",
   "version": "3.6.7"
  }
 },
 "nbformat": 4,
 "nbformat_minor": 2
}
