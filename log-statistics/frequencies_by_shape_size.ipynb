{
 "cells": [
  {
   "cell_type": "code",
   "execution_count": 5,
   "metadata": {},
   "outputs": [],
   "source": [
    "import pandas as pd\n",
    "year = '2016'"
   ]
  },
  {
   "cell_type": "code",
   "execution_count": 6,
   "metadata": {},
   "outputs": [],
   "source": [
    "freq = pd.read_csv(f'/mnt/c/Users/jandh/Desktop/evaluation-results/stats/stats{year}.txt', sep='\\t', skiprows=4, header=None, names=['shape', 'count'])"
   ]
  },
  {
   "cell_type": "code",
   "execution_count": 9,
   "metadata": {},
   "outputs": [],
   "source": [
    "freq['shape_size'] = freq['shape'].map(lambda shape: len(shape[1:-1].split(', ')))\n",
    "freq = freq[freq['shape_size'] > 1].reset_index(drop=True)"
   ]
  },
  {
   "cell_type": "code",
   "execution_count": 8,
   "metadata": {},
   "outputs": [],
   "source": [
    "grouping = freq.groupby(freq['shape_size'])\n",
    "\n",
    "for key, group in grouping:\n",
    "    group.to_csv(f'/mnt/c/Users/jandh/Desktop/evaluation-results/stats/stats_{year}_{key}.txt', sep = '\\t', columns=['shape', 'count'], index=False)"
   ]
  }
 ],
 "metadata": {
  "kernelspec": {
   "display_name": "Python 3",
   "language": "python",
   "name": "python3"
  },
  "language_info": {
   "codemirror_mode": {
    "name": "ipython",
    "version": 3
   },
   "file_extension": ".py",
   "mimetype": "text/x-python",
   "name": "python",
   "nbconvert_exporter": "python",
   "pygments_lexer": "ipython3",
   "version": "3.6.7"
  }
 },
 "nbformat": 4,
 "nbformat_minor": 2
}
